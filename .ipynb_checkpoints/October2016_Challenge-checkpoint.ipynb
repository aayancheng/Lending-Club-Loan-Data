{
 "cells": [
  {
   "cell_type": "markdown",
   "metadata": {},
   "source": [
    "# Lending-Club-Loan-Data\n",
    "\n",
    "This **Project** is [Dataquest's](https://www.dataquest.io/course/machine-learning-project) Monthly Challenge for the month of October, 2016.\n",
    "\n",
    "In this challenge, we are to explore using [past loan data from Lending Club](https://www.lendingclub.com/info/download-data.action) to build models that can predict if a loan will be paid off on time or not.\n",
    "\n",
    "## Approach :\n",
    "\n",
    "We are looking at the problem from the **conservative investor's** standpoint -- we are more interested in a low **False Positive Rate(FPR)** than a high **True Positive Rate(TPR)**\n",
    "\n",
    "\n",
    "## Goal:\n",
    "\n",
    "Construct a machine learning model that achieves a **TPR greater than 50%** while maintaining a **FPR less than 7%**."
   ]
  },
  {
   "cell_type": "code",
   "execution_count": 1,
   "metadata": {
    "collapsed": true
   },
   "outputs": [],
   "source": [
    "import pandas as pd\n",
    "import numpy as np\n",
    "pd.set_option('max_columns', 100)\n",
    "pd.set_option('max_colwidth', 5000)\n",
    "from pprint import pprint\n",
    "\n",
    "import matplotlib.pyplot as plt\n",
    "%matplotlib inline\n",
    "plt.rcParams['figure.figsize'] = (15,12)"
   ]
  },
  {
   "cell_type": "markdown",
   "metadata": {},
   "source": [
    "To start with, I will read into Pamdas the Lending Club loans data. This dataset contains **loans data from 2007-2011**."
   ]
  },
  {
   "cell_type": "code",
   "execution_count": null,
   "metadata": {
    "collapsed": true
   },
   "outputs": [],
   "source": [
    "# skip row 1 so pandas can parse the data properly.\n",
    "loans_2007 = pd.read_csv('lending_club_loans.csv', skiprows=1, low_memory=False) \n",
    "ten_percent = len(loans_2007) * .10\n",
    "loans_2007 = loans_2007.dropna(thresh=ten_percent,axis=1) # Drop any column with more than 10% missing values\n",
    "loans_2007 = loans_2007.drop(['url','desc'],axis=1)      # Don't need these columns.\n"
   ]
  },
  {
   "cell_type": "code",
   "execution_count": null,
   "metadata": {
    "collapsed": true
   },
   "outputs": [],
   "source": []
  },
  {
   "cell_type": "markdown",
   "metadata": {},
   "source": [
    "## Data Dictionary from Lending Club\n",
    "\n",
    "This data dictionary explains what each column in the loans dataset represents."
   ]
  },
  {
   "cell_type": "code",
   "execution_count": null,
   "metadata": {
    "collapsed": true
   },
   "outputs": [],
   "source": [
    "data_dictionary = pd.read_csv('LCDataDictionary.csv')\n",
    "print(data_dictionary.shape[0])\n",
    "data_dictionary.columns.tolist()"
   ]
  },
  {
   "cell_type": "code",
   "execution_count": null,
   "metadata": {
    "collapsed": true
   },
   "outputs": [],
   "source": []
  },
  {
   "cell_type": "code",
   "execution_count": null,
   "metadata": {
    "collapsed": true
   },
   "outputs": [],
   "source": [
    "data_dictionary = data_dictionary.rename(columns={'LoanStatNew': 'name'})\n",
    "\n",
    "loans_2007_dtypes = pd.DataFrame(loans_2007.dtypes,columns=['dtypes'])\n",
    "loans_2007_dtypes = loans_2007_dtypes.reset_index()\n",
    "loans_2007_dtypes['name'] = loans_2007_dtypes['index']\n",
    "loans_2007_dtypes = loans_2007_dtypes[['name','dtypes']]\n",
    "\n",
    "# the column, first_value, contains values of first row in loans_2007\n",
    "loans_2007_dtypes['first value'] = loans_2007.loc[0].values\n",
    "preview = loans_2007_dtypes.merge(data_dictionary, on='name',how='left')"
   ]
  },
  {
   "cell_type": "code",
   "execution_count": null,
   "metadata": {
    "collapsed": true
   },
   "outputs": [],
   "source": []
  }
 ],
 "metadata": {
  "kernelspec": {
   "display_name": "Python 3",
   "language": "python",
   "name": "python3"
  },
  "language_info": {
   "codemirror_mode": {
    "name": "ipython",
    "version": 3
   },
   "file_extension": ".py",
   "mimetype": "text/x-python",
   "name": "python",
   "nbconvert_exporter": "python",
   "pygments_lexer": "ipython3",
   "version": "3.5.2"
  },
  "widgets": {
   "state": {},
   "version": "1.1.1"
  }
 },
 "nbformat": 4,
 "nbformat_minor": 0
}
